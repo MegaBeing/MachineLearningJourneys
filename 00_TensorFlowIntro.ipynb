{
  "nbformat": 4,
  "nbformat_minor": 0,
  "metadata": {
    "colab": {
      "provenance": [],
      "authorship_tag": "ABX9TyPh8SXalul9moJ6G0ZmQlKV",
      "include_colab_link": true
    },
    "kernelspec": {
      "name": "python3",
      "display_name": "Python 3"
    },
    "language_info": {
      "name": "python"
    }
  },
  "cells": [
    {
      "cell_type": "markdown",
      "metadata": {
        "id": "view-in-github",
        "colab_type": "text"
      },
      "source": [
        "<a href=\"https://colab.research.google.com/github/MegaBeing/MachineLearningJourneys/blob/main/00_TensorFlowIntro.ipynb\" target=\"_parent\"><img src=\"https://colab.research.google.com/assets/colab-badge.svg\" alt=\"Open In Colab\"/></a>"
      ]
    },
    {
      "cell_type": "markdown",
      "source": [
        "# TensorFlow Fundamentals😶‍🌫️😶‍🌫️😶‍🌫️\n",
        "Let's cover: \n",
        "> 1. Intro to Tensors\n",
        "2. Getting Info from Tensors\n",
        "3. Manipulating Tensors\n",
        "4. Tensors & Numpy\n",
        "5. using @tf.functions ( a way to speed-up your basic python functions )\n",
        "6. Using GPU with TensorFlow ( or TPUs )"
      ],
      "metadata": {
        "id": "uVT3rOz8UAfK"
      }
    },
    {
      "cell_type": "code",
      "source": [
        "# import TensorFlow\n",
        "import tensorflow as tf\n",
        "tf.__version__"
      ],
      "metadata": {
        "colab": {
          "base_uri": "https://localhost:8080/",
          "height": 35
        },
        "id": "1ue68Bb3U7DQ",
        "outputId": "a4beff49-3b7e-44c0-dcb3-f08311a6f785"
      },
      "execution_count": 1,
      "outputs": [
        {
          "output_type": "execute_result",
          "data": {
            "text/plain": [
              "'2.9.2'"
            ],
            "application/vnd.google.colaboratory.intrinsic+json": {
              "type": "string"
            }
          },
          "metadata": {},
          "execution_count": 1
        }
      ]
    },
    {
      "cell_type": "code",
      "source": [
        "# creating tensors using tf.constant()\n"
      ],
      "metadata": {
        "id": "oPAItA9iV7yA"
      },
      "execution_count": null,
      "outputs": []
    }
  ]
}