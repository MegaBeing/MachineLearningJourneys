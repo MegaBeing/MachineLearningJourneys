{
 "cells": [
  {
   "cell_type": "markdown",
   "id": "5bbedd27-0269-4c92-945d-f67e42f73537",
   "metadata": {},
   "source": [
    "# Numpy\n",
    "* it is written in c, which is really fast language\n",
    "* using this gives us great computational advantage"
   ]
  },
  {
   "cell_type": "code",
   "execution_count": 1,
   "id": "e66cd19e-35e2-4655-89af-17c56825f4e0",
   "metadata": {},
   "outputs": [],
   "source": [
    "import numpy as np"
   ]
  },
  {
   "cell_type": "markdown",
   "id": "8b50f605-f01c-4a1b-ae37-7ef24c9afd68",
   "metadata": {},
   "source": [
    "## Datatypes & Attributes\n",
    "* the main advantage of numpy is ndarray"
   ]
  },
  {
   "cell_type": "markdown",
   "id": "a5e531e2-17d2-462d-a988-91e7e3d83faf",
   "metadata": {},
   "source": [
    "### np.array([])\n",
    "used to just make an array"
   ]
  },
  {
   "cell_type": "code",
   "execution_count": 2,
   "id": "421f1163-53f2-44c2-be3c-19a4fe1f78fd",
   "metadata": {},
   "outputs": [
    {
     "data": {
      "text/plain": [
       "array([1, 2, 3])"
      ]
     },
     "execution_count": 2,
     "metadata": {},
     "output_type": "execute_result"
    }
   ],
   "source": [
    "a1 = np.array([1,2,3])\n",
    "a1"
   ]
  },
  {
   "cell_type": "markdown",
   "id": "5209a600-c0b0-4953-8bab-328f4a98a8bb",
   "metadata": {},
   "source": [
    "### type()\n",
    "gives the data type of the written array"
   ]
  },
  {
   "cell_type": "code",
   "execution_count": 3,
   "id": "22a33566-69e0-4a27-94fa-f51836947717",
   "metadata": {},
   "outputs": [
    {
     "data": {
      "text/plain": [
       "numpy.ndarray"
      ]
     },
     "execution_count": 3,
     "metadata": {},
     "output_type": "execute_result"
    }
   ],
   "source": [
    "type(a1)"
   ]
  },
  {
   "cell_type": "code",
   "execution_count": 4,
   "id": "b789511a-d176-467e-9b16-1a7d398e4be0",
   "metadata": {},
   "outputs": [
    {
     "data": {
      "text/plain": [
       "(2, 3)"
      ]
     },
     "execution_count": 4,
     "metadata": {},
     "output_type": "execute_result"
    }
   ],
   "source": [
    "a2 = np.array([[1,2,3],\n",
    "               [4,5,6]])\n",
    "a2.shape"
   ]
  },
  {
   "cell_type": "code",
   "execution_count": 5,
   "id": "c78e6b42-25ed-4824-8d48-a0f79d2b164a",
   "metadata": {},
   "outputs": [
    {
     "data": {
      "text/plain": [
       "array([[[ 1,  2,  3],\n",
       "        [ 4,  5,  6],\n",
       "        [ 7,  8,  9]],\n",
       "\n",
       "       [[10, 11, 12],\n",
       "        [13, 14, 15],\n",
       "        [16, 17, 18]]])"
      ]
     },
     "execution_count": 5,
     "metadata": {},
     "output_type": "execute_result"
    }
   ],
   "source": [
    "a3 = np.array([[[1,2,3],\n",
    "                [4,5,6],\n",
    "                [7,8,9]],\n",
    "               [[10,11,12],\n",
    "                [13,14,15],\n",
    "                [16,17,18]]])\n",
    "a3"
   ]
  },
  {
   "cell_type": "markdown",
   "id": "6b657ee0-1f54-4c88-82a0-73a398c28be2",
   "metadata": {},
   "source": [
    "### np.shape\n",
    "basically gives the shape _(a representation of dimensions in tuple form|)_ of the array  \n",
    "For ex: a2(represented above) has __2 elements__ and those elements have __3 elements__  \n",
    "thus it gives the output like this"
   ]
  },
  {
   "cell_type": "code",
   "execution_count": 6,
   "id": "ce97f1c0-2b50-45ae-b85e-90111da04e93",
   "metadata": {},
   "outputs": [
    {
     "data": {
      "text/plain": [
       "(2, 3)"
      ]
     },
     "execution_count": 6,
     "metadata": {},
     "output_type": "execute_result"
    }
   ],
   "source": [
    "a2.shape"
   ]
  },
  {
   "cell_type": "markdown",
   "id": "4f455baa-cb5f-445d-b771-6980139301c1",
   "metadata": {},
   "source": [
    "## np.ndim\n",
    "used to give dimension of the particular array"
   ]
  },
  {
   "cell_type": "code",
   "execution_count": 7,
   "id": "793ddcc8-47d5-41c3-9cf1-542a888c58ee",
   "metadata": {},
   "outputs": [
    {
     "data": {
      "text/plain": [
       "(1, 2, 3)"
      ]
     },
     "execution_count": 7,
     "metadata": {},
     "output_type": "execute_result"
    }
   ],
   "source": [
    "a1.ndim , a2.ndim , a3.ndim"
   ]
  },
  {
   "cell_type": "markdown",
   "id": "ac834b0e-dac1-4cc1-920d-3b37d883799d",
   "metadata": {},
   "source": [
    "* `a1` is a 1 dimensional array\n",
    "* `a2` is a 2 dimensional array\n",
    "* `a3` is a 3 dimensional array"
   ]
  },
  {
   "cell_type": "markdown",
   "id": "0f22af22-961f-4ba4-9a3a-a6813fa4e68f",
   "metadata": {},
   "source": [
    "## np.dtype\n",
    "used to give the data type of the elements of the array"
   ]
  },
  {
   "cell_type": "code",
   "execution_count": 8,
   "id": "9cb8a20a-b243-44a3-8016-25407d4c8147",
   "metadata": {},
   "outputs": [
    {
     "data": {
      "text/plain": [
       "dtype('int32')"
      ]
     },
     "execution_count": 8,
     "metadata": {},
     "output_type": "execute_result"
    }
   ],
   "source": [
    "a1.dtype"
   ]
  },
  {
   "cell_type": "markdown",
   "id": "b5c92f70-ffc6-4127-b490-3f8fee296701",
   "metadata": {},
   "source": [
    "## np.size\n",
    "gives the number of elements in the array"
   ]
  },
  {
   "cell_type": "code",
   "execution_count": 9,
   "id": "a9503d7e-3a56-4d36-8e97-9edaca43611d",
   "metadata": {},
   "outputs": [
    {
     "data": {
      "text/plain": [
       "3"
      ]
     },
     "execution_count": 9,
     "metadata": {},
     "output_type": "execute_result"
    }
   ],
   "source": [
    "a1.size"
   ]
  },
  {
   "cell_type": "markdown",
   "id": "3ea7ac7d-85c7-479b-b150-9bfeb69d76c4",
   "metadata": {},
   "source": [
    "## example to show that numpy is the base of dataScience\n"
   ]
  },
  {
   "cell_type": "code",
   "execution_count": 10,
   "id": "1c202d1d-bb77-45f8-9d66-027373f36b33",
   "metadata": {},
   "outputs": [
    {
     "data": {
      "text/html": [
       "<div>\n",
       "<style scoped>\n",
       "    .dataframe tbody tr th:only-of-type {\n",
       "        vertical-align: middle;\n",
       "    }\n",
       "\n",
       "    .dataframe tbody tr th {\n",
       "        vertical-align: top;\n",
       "    }\n",
       "\n",
       "    .dataframe thead th {\n",
       "        text-align: right;\n",
       "    }\n",
       "</style>\n",
       "<table border=\"1\" class=\"dataframe\">\n",
       "  <thead>\n",
       "    <tr style=\"text-align: right;\">\n",
       "      <th></th>\n",
       "      <th>0</th>\n",
       "      <th>1</th>\n",
       "      <th>2</th>\n",
       "    </tr>\n",
       "  </thead>\n",
       "  <tbody>\n",
       "    <tr>\n",
       "      <th>0</th>\n",
       "      <td>1</td>\n",
       "      <td>2</td>\n",
       "      <td>3</td>\n",
       "    </tr>\n",
       "    <tr>\n",
       "      <th>1</th>\n",
       "      <td>4</td>\n",
       "      <td>5</td>\n",
       "      <td>6</td>\n",
       "    </tr>\n",
       "  </tbody>\n",
       "</table>\n",
       "</div>"
      ],
      "text/plain": [
       "   0  1  2\n",
       "0  1  2  3\n",
       "1  4  5  6"
      ]
     },
     "execution_count": 10,
     "metadata": {},
     "output_type": "execute_result"
    }
   ],
   "source": [
    "import pandas as pd \n",
    "df = pd.DataFrame(a2)\n",
    "df"
   ]
  },
  {
   "cell_type": "markdown",
   "id": "87795303-aae2-4ab4-8a44-53d560bf7875",
   "metadata": {},
   "source": [
    "## np.ones()\n",
    "give the shape it will print the array(matrix) consisting only one as an element"
   ]
  },
  {
   "cell_type": "code",
   "execution_count": 11,
   "id": "8c9fa7c2-9a6c-483e-ae26-e4297f2f4699",
   "metadata": {},
   "outputs": [],
   "source": [
    "ones = np.ones(shape=a2.shape)"
   ]
  },
  {
   "cell_type": "code",
   "execution_count": 12,
   "id": "2eaf79b1-b036-4b25-91e9-3ad5a5115f60",
   "metadata": {},
   "outputs": [
    {
     "data": {
      "text/plain": [
       "array([[1., 1., 1.],\n",
       "       [1., 1., 1.]])"
      ]
     },
     "execution_count": 12,
     "metadata": {},
     "output_type": "execute_result"
    }
   ],
   "source": [
    "ones"
   ]
  },
  {
   "cell_type": "markdown",
   "id": "e43fed9e-3474-45cd-b022-217b7e7d2d0a",
   "metadata": {},
   "source": [
    "## np.zeros()\n",
    "this gives us an array having zeros as their element"
   ]
  },
  {
   "cell_type": "code",
   "execution_count": 13,
   "id": "66bc3384-b07c-4a9e-830a-b7152bb62902",
   "metadata": {},
   "outputs": [],
   "source": [
    "zero = np.zeros(shape = a2.shape,dtype = int)"
   ]
  },
  {
   "cell_type": "code",
   "execution_count": 14,
   "id": "e029fee1-390c-4690-9c2f-6eade0bb6aff",
   "metadata": {},
   "outputs": [
    {
     "data": {
      "text/plain": [
       "array([[0, 0, 0],\n",
       "       [0, 0, 0]])"
      ]
     },
     "execution_count": 14,
     "metadata": {},
     "output_type": "execute_result"
    }
   ],
   "source": [
    "zero"
   ]
  },
  {
   "cell_type": "markdown",
   "id": "1c5b7e86-d1bc-4b97-8421-0b400bca00ab",
   "metadata": {},
   "source": [
    "## np.arange()\n",
    "gives us the array within the range like we did in iteration"
   ]
  },
  {
   "cell_type": "code",
   "execution_count": 15,
   "id": "c3acf43c-2bba-4632-8a6c-27f167d255cf",
   "metadata": {},
   "outputs": [
    {
     "data": {
      "text/plain": [
       "array([ 0,  2,  4,  6,  8, 10])"
      ]
     },
     "execution_count": 15,
     "metadata": {},
     "output_type": "execute_result"
    }
   ],
   "source": [
    "rAr = np.arange(0,11,2)\n",
    "rAr"
   ]
  },
  {
   "cell_type": "markdown",
   "id": "f810fcbc-cfb7-43d6-9125-2fb40a798c7b",
   "metadata": {},
   "source": [
    "## np.random.randint(low,high,size=None)\n",
    "gives array of specified size    \n",
    "elements are between low and high which are specified by the programmer  \n",
    "these elements are integers"
   ]
  },
  {
   "cell_type": "code",
   "execution_count": 16,
   "id": "cac994d1-a884-4fd0-8f36-926d5d9322ed",
   "metadata": {},
   "outputs": [
    {
     "data": {
      "text/plain": [
       "array([[8, 4, 8],\n",
       "       [0, 9, 8]])"
      ]
     },
     "execution_count": 16,
     "metadata": {},
     "output_type": "execute_result"
    }
   ],
   "source": [
    "ranAr = np.random.randint(0,10,size=a2.shape)\n",
    "ranAr"
   ]
  },
  {
   "cell_type": "markdown",
   "id": "a4ef238f-6f69-4754-adbc-6021b7972dfe",
   "metadata": {},
   "source": [
    "## np.random.rand(shape)\n",
    "this gives us the array in which we have random elements  \n",
    "__Note__: Array shape must be specified"
   ]
  },
  {
   "cell_type": "code",
   "execution_count": 17,
   "id": "9f532ffc-b2f6-4816-8113-4535b2d80c1b",
   "metadata": {},
   "outputs": [],
   "source": [
    "ran = np.random.rand(5,3)"
   ]
  },
  {
   "cell_type": "code",
   "execution_count": 18,
   "id": "eb86a350-19d1-4d08-8daf-8598cfb32e8d",
   "metadata": {},
   "outputs": [
    {
     "data": {
      "text/plain": [
       "array([[0.24105396, 0.5414779 , 0.54195467],\n",
       "       [0.24684136, 0.28740902, 0.2546237 ],\n",
       "       [0.83760089, 0.44233438, 0.21796528],\n",
       "       [0.73515311, 0.14406004, 0.38287159],\n",
       "       [0.9281123 , 0.32892658, 0.49069838]])"
      ]
     },
     "execution_count": 18,
     "metadata": {},
     "output_type": "execute_result"
    }
   ],
   "source": [
    "ran"
   ]
  },
  {
   "cell_type": "markdown",
   "id": "53dd3a5c-bd9d-4be5-adbc-52f0a772a76c",
   "metadata": {},
   "source": [
    "## np.random.random()\n",
    "* generates an array of specified size\n",
    "* 0.0 <= element < 1.0"
   ]
  },
  {
   "cell_type": "code",
   "execution_count": 19,
   "id": "c9ae3f14-c504-443b-801d-6f6433ffc16e",
   "metadata": {},
   "outputs": [
    {
     "data": {
      "text/plain": [
       "array([[0.87038564, 0.3526474 , 0.15059649],\n",
       "       [0.66265024, 0.3191938 , 0.6187473 ]])"
      ]
     },
     "execution_count": 19,
     "metadata": {},
     "output_type": "execute_result"
    }
   ],
   "source": [
    "ranDom = np.random.random(a2.shape)\n",
    "ranDom"
   ]
  },
  {
   "cell_type": "markdown",
   "id": "9f09406c-c444-4ffc-bf65-7f80b2f33f60",
   "metadata": {},
   "source": [
    "## np.random.seed(self,seed = None)\n",
    "used to create constant random arrays  \n",
    "written before any random function so that it can allign itself with the seed"
   ]
  },
  {
   "cell_type": "code",
   "execution_count": 20,
   "id": "b005ff71-ad95-462d-862f-95166a69f6fa",
   "metadata": {},
   "outputs": [
    {
     "data": {
      "text/plain": [
       "array([[4, 9, 6],\n",
       "       [3, 3, 7]])"
      ]
     },
     "execution_count": 20,
     "metadata": {},
     "output_type": "execute_result"
    }
   ],
   "source": [
    "np.random.seed(seed=7)\n",
    "arr = np.random.randint(10,size = a2.shape)\n",
    "arr\n",
    "# no matter how many times you run the code you will get the same output"
   ]
  },
  {
   "cell_type": "markdown",
   "id": "dd463c81-b49a-497a-9f86-3c485bd7ffa0",
   "metadata": {},
   "source": [
    "## Accessing the elements of the array"
   ]
  },
  {
   "cell_type": "code",
   "execution_count": 21,
   "id": "40974f36-7d3f-4304-870a-551901d6cc61",
   "metadata": {},
   "outputs": [
    {
     "data": {
      "text/plain": [
       "1"
      ]
     },
     "execution_count": 21,
     "metadata": {},
     "output_type": "execute_result"
    }
   ],
   "source": [
    "a1[0]\n",
    "# 1D array"
   ]
  },
  {
   "cell_type": "code",
   "execution_count": 22,
   "id": "5e8efe99-2e15-4895-8f3a-de63213d552a",
   "metadata": {},
   "outputs": [
    {
     "name": "stdout",
     "output_type": "stream",
     "text": [
      "5\n",
      "5\n"
     ]
    }
   ],
   "source": [
    "print(a2[1][1])\n",
    "print(a2[1,1])\n",
    "# 2D array"
   ]
  },
  {
   "cell_type": "code",
   "execution_count": 23,
   "id": "e59facef-f460-4abb-a91b-f5c8e52a6a80",
   "metadata": {},
   "outputs": [
    {
     "name": "stdout",
     "output_type": "stream",
     "text": [
      "6\n",
      "6\n"
     ]
    }
   ],
   "source": [
    "print(a3[0][1][2])\n",
    "print(a3[0,1,2])\n",
    "# 3D array"
   ]
  },
  {
   "cell_type": "markdown",
   "id": "9de3c432-2719-4a61-8773-d9a3bf2b9737",
   "metadata": {},
   "source": [
    "## slicing the Array"
   ]
  },
  {
   "cell_type": "code",
   "execution_count": 24,
   "id": "d26f418a-3628-443a-9a9d-a98d6ea4cc34",
   "metadata": {},
   "outputs": [
    {
     "data": {
      "text/plain": [
       "array([[[1, 2, 3],\n",
       "        [4, 5, 6],\n",
       "        [7, 8, 9]]])"
      ]
     },
     "execution_count": 24,
     "metadata": {},
     "output_type": "execute_result"
    }
   ],
   "source": [
    "a3[0:1]\n",
    "# the first one is included and the end one is excluded"
   ]
  },
  {
   "cell_type": "code",
   "execution_count": 25,
   "id": "18faab5d-ec43-4e57-9d33-476015461e18",
   "metadata": {},
   "outputs": [
    {
     "data": {
      "text/plain": [
       "(array([[[ 1,  2,  3],\n",
       "         [ 4,  5,  6],\n",
       "         [ 7,  8,  9]],\n",
       " \n",
       "        [[10, 11, 12],\n",
       "         [13, 14, 15],\n",
       "         [16, 17, 18]]]),\n",
       " (2, 3, 3))"
      ]
     },
     "execution_count": 25,
     "metadata": {},
     "output_type": "execute_result"
    }
   ],
   "source": [
    "a3 , a3.shape"
   ]
  },
  {
   "cell_type": "code",
   "execution_count": 26,
   "id": "cdaaf955-a0d9-4423-8211-872f17b6f874",
   "metadata": {},
   "outputs": [
    {
     "data": {
      "text/plain": [
       "array([[[ 1,  2],\n",
       "        [ 4,  5],\n",
       "        [ 7,  8]],\n",
       "\n",
       "       [[10, 11],\n",
       "        [13, 14],\n",
       "        [16, 17]]])"
      ]
     },
     "execution_count": 26,
     "metadata": {},
     "output_type": "execute_result"
    }
   ],
   "source": [
    "a3[:,:,:2]"
   ]
  },
  {
   "cell_type": "markdown",
   "id": "3b1635f1-123a-4130-a64a-12eed6f74b08",
   "metadata": {},
   "source": [
    "# Manupulating and comparing Arrays"
   ]
  },
  {
   "cell_type": "markdown",
   "id": "3f97619c-5a44-4fa1-9656-7efc14483089",
   "metadata": {},
   "source": [
    "## Arithmetic"
   ]
  },
  {
   "cell_type": "code",
   "execution_count": 27,
   "id": "f175de49-9267-4215-9b9a-c93e9ed73853",
   "metadata": {},
   "outputs": [
    {
     "data": {
      "text/plain": [
       "(array([1, 1, 1]), array([1, 2, 3]))"
      ]
     },
     "execution_count": 27,
     "metadata": {},
     "output_type": "execute_result"
    }
   ],
   "source": [
    "ones = np.ones(shape=a1.shape , dtype=int)\n",
    "ones,a1"
   ]
  },
  {
   "cell_type": "markdown",
   "id": "9096fe7d-a17b-491c-8b45-9e857a6d7558",
   "metadata": {},
   "source": [
    "### Addition"
   ]
  },
  {
   "cell_type": "code",
   "execution_count": 28,
   "id": "5b511b27-7eef-4314-b7d4-31946effc392",
   "metadata": {},
   "outputs": [
    {
     "data": {
      "text/plain": [
       "array([2, 3, 4])"
      ]
     },
     "execution_count": 28,
     "metadata": {},
     "output_type": "execute_result"
    }
   ],
   "source": [
    "ones+a1"
   ]
  },
  {
   "cell_type": "markdown",
   "id": "a6b8d00f-3626-4d99-9a92-2d26c491deaa",
   "metadata": {},
   "source": [
    "### Subtraction"
   ]
  },
  {
   "cell_type": "code",
   "execution_count": 29,
   "id": "57bcfdf4-73cf-48be-b50e-88de77de38a9",
   "metadata": {},
   "outputs": [
    {
     "data": {
      "text/plain": [
       "array([0, 1, 2])"
      ]
     },
     "execution_count": 29,
     "metadata": {},
     "output_type": "execute_result"
    }
   ],
   "source": [
    "a1-ones"
   ]
  },
  {
   "cell_type": "markdown",
   "id": "c2be6f5d-bfa5-422d-aa90-97cc1b2f1cdd",
   "metadata": {},
   "source": [
    "### Multiplication\n",
    "* it is not like normal matrix multiplication.  \n",
    "* the smaller array is __*broadcasted*__ across the larger array so that they can have **compatible shapes**\n",
    "* **Multiplication with constants**: same as in matrix\n"
   ]
  },
  {
   "cell_type": "code",
   "execution_count": 30,
   "id": "ffdfdf98-7405-4751-b50c-c66fd0b0c08a",
   "metadata": {},
   "outputs": [
    {
     "data": {
      "text/plain": [
       "array([1, 2, 3])"
      ]
     },
     "execution_count": 30,
     "metadata": {},
     "output_type": "execute_result"
    }
   ],
   "source": [
    "a1*ones"
   ]
  },
  {
   "cell_type": "code",
   "execution_count": 31,
   "id": "78f0730b-762f-4e99-9e4a-395d89858164",
   "metadata": {},
   "outputs": [
    {
     "data": {
      "text/plain": [
       "array([[ 1,  4,  9],\n",
       "       [ 4, 10, 18]])"
      ]
     },
     "execution_count": 31,
     "metadata": {},
     "output_type": "execute_result"
    }
   ],
   "source": [
    "a1*a2\n",
    "# here as you can see a1 has been broadcasted over each element of a2"
   ]
  },
  {
   "cell_type": "code",
   "execution_count": 32,
   "id": "a2d7f238-8af3-4ae9-b568-255b7aade7a3",
   "metadata": {
    "tags": []
   },
   "outputs": [
    {
     "ename": "ValueError",
     "evalue": "operands could not be broadcast together with shapes (2,3) (2,3,3) ",
     "output_type": "error",
     "traceback": [
      "\u001b[1;31m---------------------------------------------------------------------------\u001b[0m",
      "\u001b[1;31mValueError\u001b[0m                                Traceback (most recent call last)",
      "Input \u001b[1;32mIn [32]\u001b[0m, in \u001b[0;36m<cell line: 3>\u001b[1;34m()\u001b[0m\n\u001b[0;32m      1\u001b[0m \u001b[38;5;66;03m# here as you can see due to a2 shape we can't broadcast it onto a3\u001b[39;00m\n\u001b[0;32m      2\u001b[0m \u001b[38;5;66;03m# to solve this we need to reshape it\u001b[39;00m\n\u001b[1;32m----> 3\u001b[0m \u001b[43ma2\u001b[49m\u001b[38;5;241;43m*\u001b[39;49m\u001b[43ma3\u001b[49m\n",
      "\u001b[1;31mValueError\u001b[0m: operands could not be broadcast together with shapes (2,3) (2,3,3) "
     ]
    }
   ],
   "source": [
    "# here as you can see due to a2 shape we can't broadcast it onto a3\n",
    "# to solve this we need to reshape it\n",
    "a2*a3"
   ]
  },
  {
   "cell_type": "markdown",
   "id": "9b11574f-43f1-45f4-a8d5-82689719c122",
   "metadata": {},
   "source": [
    "### Division"
   ]
  },
  {
   "cell_type": "code",
   "execution_count": 33,
   "id": "ee4ccb65-3312-4bb9-97ad-6aed6dce881d",
   "metadata": {},
   "outputs": [
    {
     "data": {
      "text/plain": [
       "array([[[ 1. ,  1. ,  1. ],\n",
       "        [ 4. ,  2.5,  2. ],\n",
       "        [ 7. ,  4. ,  3. ]],\n",
       "\n",
       "       [[10. ,  5.5,  4. ],\n",
       "        [13. ,  7. ,  5. ],\n",
       "        [16. ,  8.5,  6. ]]])"
      ]
     },
     "execution_count": 33,
     "metadata": {},
     "output_type": "execute_result"
    }
   ],
   "source": [
    "a3/a1"
   ]
  },
  {
   "cell_type": "markdown",
   "id": "ac3bff2d-1255-48c7-bb7f-49b63321631f",
   "metadata": {},
   "source": [
    "### Floor Division"
   ]
  },
  {
   "cell_type": "code",
   "execution_count": 34,
   "id": "7a40b081-c1ab-42ee-9bea-77637372ed77",
   "metadata": {},
   "outputs": [
    {
     "data": {
      "text/plain": [
       "array([[[ 1,  1,  1],\n",
       "        [ 4,  2,  2],\n",
       "        [ 7,  4,  3]],\n",
       "\n",
       "       [[10,  5,  4],\n",
       "        [13,  7,  5],\n",
       "        [16,  8,  6]]], dtype=int32)"
      ]
     },
     "execution_count": 34,
     "metadata": {},
     "output_type": "execute_result"
    }
   ],
   "source": [
    "a3//a1"
   ]
  },
  {
   "cell_type": "markdown",
   "id": "3ec0bdc4-8d85-45c4-bca1-4f3f21d235d3",
   "metadata": {},
   "source": [
    "### Power\n"
   ]
  },
  {
   "cell_type": "code",
   "execution_count": 35,
   "id": "de177e35-d52a-4394-ab72-a9aa496da7f8",
   "metadata": {},
   "outputs": [
    {
     "data": {
      "text/plain": [
       "array([[ 1,  4,  9],\n",
       "       [16, 25, 36]], dtype=int32)"
      ]
     },
     "execution_count": 35,
     "metadata": {},
     "output_type": "execute_result"
    }
   ],
   "source": [
    "a2**2"
   ]
  },
  {
   "cell_type": "code",
   "execution_count": 36,
   "id": "beb81cab-b981-4ca5-b570-c61a6d91304b",
   "metadata": {},
   "outputs": [
    {
     "data": {
      "text/plain": [
       "array([[  1,   4,  27],\n",
       "       [  4,  25, 216]], dtype=int32)"
      ]
     },
     "execution_count": 36,
     "metadata": {},
     "output_type": "execute_result"
    }
   ],
   "source": [
    "a2**a1"
   ]
  },
  {
   "cell_type": "markdown",
   "id": "8982c97f-108e-4372-8e0e-10bae874d4e5",
   "metadata": {},
   "source": [
    "### Function for Arithmetic operations\n",
    "#### Square"
   ]
  },
  {
   "cell_type": "code",
   "execution_count": 37,
   "id": "4f2f522b-902d-4973-a676-6f0e02830d5c",
   "metadata": {},
   "outputs": [
    {
     "name": "stdout",
     "output_type": "stream",
     "text": [
      "[1 4 9]\n",
      "[1 4 9]\n"
     ]
    }
   ],
   "source": [
    "print(np.square(a1))\n",
    "\n",
    "print(a1**2)"
   ]
  },
  {
   "cell_type": "markdown",
   "id": "7dd67f43-e92b-4da8-9193-a7f08980c8b0",
   "metadata": {},
   "source": [
    "#### Add"
   ]
  },
  {
   "cell_type": "code",
   "execution_count": 38,
   "id": "51781165-720a-438f-a07d-80fc9185882c",
   "metadata": {},
   "outputs": [
    {
     "name": "stdout",
     "output_type": "stream",
     "text": [
      "[2 3 4]\n",
      "[2 3 4]\n"
     ]
    }
   ],
   "source": [
    "print(np.add(a1,ones))\n",
    "\n",
    "print(a1+ones)"
   ]
  },
  {
   "cell_type": "markdown",
   "id": "0f5a83db-f94d-4159-a184-41444ee033e2",
   "metadata": {},
   "source": [
    "#### Modulus"
   ]
  },
  {
   "cell_type": "code",
   "execution_count": 39,
   "id": "54ce56ac-3f5f-4d5d-b63c-7aa85f2d483c",
   "metadata": {},
   "outputs": [
    {
     "name": "stdout",
     "output_type": "stream",
     "text": [
      "[1 0 1]\n",
      "[1 0 1]\n"
     ]
    }
   ],
   "source": [
    "print(np.mod(a1,2))\n",
    "\n",
    "print(a1 % 2)"
   ]
  },
  {
   "cell_type": "markdown",
   "id": "e703603b-ecfd-491a-96bb-1f6a9abb4029",
   "metadata": {},
   "source": [
    "## Aggregation\n",
    "Performing same operation on a number of things"
   ]
  },
  {
   "cell_type": "code",
   "execution_count": 40,
   "id": "683563db-b661-4166-b843-d987c1928c9f",
   "metadata": {},
   "outputs": [
    {
     "data": {
      "text/plain": [
       "[1, 2, 3]"
      ]
     },
     "execution_count": 40,
     "metadata": {},
     "output_type": "execute_result"
    }
   ],
   "source": [
    "listy = [1,2,3]\n",
    "listy"
   ]
  },
  {
   "cell_type": "code",
   "execution_count": 41,
   "id": "ca00fe35-7178-462e-8aa7-e34af77bb274",
   "metadata": {},
   "outputs": [
    {
     "data": {
      "text/plain": [
       "list"
      ]
     },
     "execution_count": 41,
     "metadata": {},
     "output_type": "execute_result"
    }
   ],
   "source": [
    "type(listy)"
   ]
  },
  {
   "cell_type": "code",
   "execution_count": 42,
   "id": "b8395ff6-f98c-4f59-90f4-5dc8349cff0c",
   "metadata": {},
   "outputs": [
    {
     "data": {
      "text/plain": [
       "6"
      ]
     },
     "execution_count": 42,
     "metadata": {},
     "output_type": "execute_result"
    }
   ],
   "source": [
    "# python sum\n",
    "sum(listy)"
   ]
  },
  {
   "cell_type": "code",
   "execution_count": 43,
   "id": "13522be4-9395-420a-a5ea-517c12a8bdd8",
   "metadata": {},
   "outputs": [
    {
     "data": {
      "text/plain": [
       "array([1, 2, 3])"
      ]
     },
     "execution_count": 43,
     "metadata": {},
     "output_type": "execute_result"
    }
   ],
   "source": [
    "a1"
   ]
  },
  {
   "cell_type": "code",
   "execution_count": 44,
   "id": "31e7e273-6c79-471e-8b57-32f03b70c7b6",
   "metadata": {},
   "outputs": [
    {
     "data": {
      "text/plain": [
       "6"
      ]
     },
     "execution_count": 44,
     "metadata": {},
     "output_type": "execute_result"
    }
   ],
   "source": [
    "# numpy sum\n",
    "np.sum(a1)"
   ]
  },
  {
   "cell_type": "markdown",
   "id": "defb9e35-2631-4689-a65e-9cd1352b5657",
   "metadata": {},
   "source": [
    "So the crux is that we should use **python sum** `sum()` when using _python Datatypes_ and  \n",
    "use **NumPy sum** `np.sum()` when using _NumPy Datatypes_"
   ]
  },
  {
   "cell_type": "markdown",
   "id": "82d1c1e5-deb8-464a-ba78-528dfa19f1e3",
   "metadata": {},
   "source": [
    "#### Example"
   ]
  },
  {
   "cell_type": "code",
   "execution_count": 45,
   "id": "5f1f3f68-e587-4689-8180-1adb1d13f863",
   "metadata": {},
   "outputs": [
    {
     "data": {
      "text/plain": [
       "array([0.45558491, 0.30801277, 0.26387084, 0.08674343, 0.41937221,\n",
       "       0.01591036, 0.52776479, 0.86880146, 0.33083925, 0.39294231])"
      ]
     },
     "execution_count": 45,
     "metadata": {},
     "output_type": "execute_result"
    }
   ],
   "source": [
    "Massive = np.random.random(100000)\n",
    "Massive[:10]"
   ]
  },
  {
   "cell_type": "code",
   "execution_count": 46,
   "id": "2fca2220-e4e9-410b-af19-5bafaa63bf35",
   "metadata": {},
   "outputs": [
    {
     "name": "stdout",
     "output_type": "stream",
     "text": [
      "5.13 ms ± 153 µs per loop (mean ± std. dev. of 7 runs, 100 loops each)\n",
      "27.6 µs ± 1.12 µs per loop (mean ± std. dev. of 7 runs, 10,000 loops each)\n"
     ]
    }
   ],
   "source": [
    "%timeit sum(Massive) # Python's sum()\n",
    "%timeit np.sum(Massive) # Numpy's np.sum()"
   ]
  },
  {
   "cell_type": "markdown",
   "id": "63fa08b5-e3c7-4c7d-86d8-9066f05f3d44",
   "metadata": {},
   "source": [
    "So as we can see that the `np.sum()` (NumPy) is way more faster than `sum()` (Python)"
   ]
  },
  {
   "cell_type": "code",
   "execution_count": 47,
   "id": "835f76a3-fe85-463e-a60f-82e3144a8908",
   "metadata": {},
   "outputs": [
    {
     "data": {
      "text/plain": [
       "array([[1, 2, 3],\n",
       "       [4, 5, 6]])"
      ]
     },
     "execution_count": 47,
     "metadata": {},
     "output_type": "execute_result"
    }
   ],
   "source": [
    "a2"
   ]
  },
  {
   "cell_type": "markdown",
   "id": "5ea12f96-c5d2-4aa8-a5fe-31fa3accd428",
   "metadata": {},
   "source": [
    "### Normal Math functions\n"
   ]
  },
  {
   "cell_type": "code",
   "execution_count": 48,
   "id": "d135bbe2-1c7b-4546-ba63-bca2e2247a33",
   "metadata": {},
   "outputs": [
    {
     "data": {
      "text/plain": [
       "6"
      ]
     },
     "execution_count": 48,
     "metadata": {},
     "output_type": "execute_result"
    }
   ],
   "source": [
    "np.max(a2)  # Returns max value in the array"
   ]
  },
  {
   "cell_type": "code",
   "execution_count": 49,
   "id": "a5fc3388-8c2c-47a1-bf7c-f0ce554b9212",
   "metadata": {},
   "outputs": [
    {
     "data": {
      "text/plain": [
       "1"
      ]
     },
     "execution_count": 49,
     "metadata": {},
     "output_type": "execute_result"
    }
   ],
   "source": [
    "np.min(a2)  # Returns min value in the array"
   ]
  },
  {
   "cell_type": "code",
   "execution_count": 50,
   "id": "18181dcc-f0ca-4bb2-9a8d-6066f3a50036",
   "metadata": {},
   "outputs": [
    {
     "data": {
      "text/plain": [
       "1.707825127659933"
      ]
     },
     "execution_count": 50,
     "metadata": {},
     "output_type": "execute_result"
    }
   ],
   "source": [
    "np.std(a2)  # Returns standard deviation of the array\n",
    "# standard deviation = it is the measurement of how much the group of numbers are spread out from the mean"
   ]
  },
  {
   "cell_type": "code",
   "execution_count": 51,
   "id": "f57bf2da-5838-4e08-96a8-db3615b9d2e1",
   "metadata": {},
   "outputs": [
    {
     "data": {
      "text/plain": [
       "2.9166666666666665"
      ]
     },
     "execution_count": 51,
     "metadata": {},
     "output_type": "execute_result"
    }
   ],
   "source": [
    "np.var(a2)  # Returns variance of the array\n",
    "# variance = measurement of average degree to which the number is different to the mean\n",
    "# higher variance = higher range of numbers\n",
    "# lower variance = lower range of numbers\n",
    "# var = std**2"
   ]
  },
  {
   "cell_type": "markdown",
   "id": "bc98e6db-5c83-430d-bf7e-bd6d9bfa4113",
   "metadata": {},
   "source": [
    "## Reshaping and Transposing\n",
    "### Why do we __need__ it?\n",
    "bcz of these broadcasting rules:  \n",
    "Two dimensions are compatible when\n",
    "* they are equal, or\n",
    "* one of them is 1  \n",
    "so these must be followed otherwise no arithmetic operation would work on those two arrays"
   ]
  },
  {
   "cell_type": "code",
   "execution_count": 52,
   "id": "e7205738-166f-4345-bfb8-075c7c8001a8",
   "metadata": {},
   "outputs": [
    {
     "ename": "ValueError",
     "evalue": "operands could not be broadcast together with shapes (2,3) (2,3,3) ",
     "output_type": "error",
     "traceback": [
      "\u001b[1;31m---------------------------------------------------------------------------\u001b[0m",
      "\u001b[1;31mValueError\u001b[0m                                Traceback (most recent call last)",
      "Input \u001b[1;32mIn [52]\u001b[0m, in \u001b[0;36m<cell line: 1>\u001b[1;34m()\u001b[0m\n\u001b[1;32m----> 1\u001b[0m \u001b[43ma2\u001b[49m\u001b[38;5;241;43m*\u001b[39;49m\u001b[43ma3\u001b[49m\n",
      "\u001b[1;31mValueError\u001b[0m: operands could not be broadcast together with shapes (2,3) (2,3,3) "
     ]
    }
   ],
   "source": [
    "a2*a3"
   ]
  },
  {
   "cell_type": "markdown",
   "id": "a63ba910-009b-4a3f-acc4-4f01b726e1e7",
   "metadata": {},
   "source": [
    "We got an error bcz they are not compatible with each other so we have to reshape the smaller array so that it can be easily when performing arithmetic operations"
   ]
  },
  {
   "cell_type": "markdown",
   "id": "984dd0d5-0a92-4eef-9341-b2d0b062d00d",
   "metadata": {},
   "source": [
    "### reshape(`shape`)\n",
    "used to reshape non compatible arrays so that we can perform arithmetic operations  \n",
    "`Note` : number of elements in the array are __equal__ and also which is equal to the __product of the elements in the shape tuple__"
   ]
  },
  {
   "cell_type": "code",
   "execution_count": 53,
   "id": "4e950351-7348-4539-9fe5-945bfa6f1669",
   "metadata": {},
   "outputs": [
    {
     "data": {
      "text/plain": [
       "array([[1, 2, 3],\n",
       "       [4, 5, 6]])"
      ]
     },
     "execution_count": 53,
     "metadata": {},
     "output_type": "execute_result"
    }
   ],
   "source": [
    "a2"
   ]
  },
  {
   "cell_type": "code",
   "execution_count": 54,
   "id": "6cdd97cb-6033-4c3e-a72f-e6f977e962c7",
   "metadata": {},
   "outputs": [
    {
     "data": {
      "text/plain": [
       "array([[[1],\n",
       "        [2],\n",
       "        [3]],\n",
       "\n",
       "       [[4],\n",
       "        [5],\n",
       "        [6]]])"
      ]
     },
     "execution_count": 54,
     "metadata": {},
     "output_type": "execute_result"
    }
   ],
   "source": [
    "reshaped = a2.reshape(2,3,1)\n",
    "reshaped"
   ]
  },
  {
   "cell_type": "code",
   "execution_count": 55,
   "id": "d60e0bbc-bfa8-4a29-b1f9-aaebf1941f7f",
   "metadata": {},
   "outputs": [
    {
     "data": {
      "text/plain": [
       "array([[[ 1,  2,  3],\n",
       "        [ 4,  5,  6],\n",
       "        [ 7,  8,  9]],\n",
       "\n",
       "       [[10, 11, 12],\n",
       "        [13, 14, 15],\n",
       "        [16, 17, 18]]])"
      ]
     },
     "execution_count": 55,
     "metadata": {},
     "output_type": "execute_result"
    }
   ],
   "source": [
    "a3"
   ]
  },
  {
   "cell_type": "code",
   "execution_count": 56,
   "id": "7bf33abe-c18d-4e64-9b47-76e1a2037334",
   "metadata": {},
   "outputs": [
    {
     "data": {
      "text/plain": [
       "array([[[  1,   2,   3],\n",
       "        [  8,  10,  12],\n",
       "        [ 21,  24,  27]],\n",
       "\n",
       "       [[ 40,  44,  48],\n",
       "        [ 65,  70,  75],\n",
       "        [ 96, 102, 108]]])"
      ]
     },
     "execution_count": 56,
     "metadata": {},
     "output_type": "execute_result"
    }
   ],
   "source": [
    "reshaped*a3"
   ]
  },
  {
   "cell_type": "markdown",
   "id": "588ec0ee-7f3d-43f9-af83-72296a6e965f",
   "metadata": {},
   "source": [
    "### Transpose\n",
    "you know what it is"
   ]
  },
  {
   "cell_type": "code",
   "execution_count": 57,
   "id": "c9172f5e-b094-4eca-98f3-132f4602db0a",
   "metadata": {},
   "outputs": [
    {
     "data": {
      "text/plain": [
       "array([[[ 1,  2,  3],\n",
       "        [ 4,  5,  6],\n",
       "        [ 7,  8,  9]],\n",
       "\n",
       "       [[10, 11, 12],\n",
       "        [13, 14, 15],\n",
       "        [16, 17, 18]]])"
      ]
     },
     "execution_count": 57,
     "metadata": {},
     "output_type": "execute_result"
    }
   ],
   "source": [
    "a3"
   ]
  },
  {
   "cell_type": "code",
   "execution_count": 58,
   "id": "1edd2775-845b-4395-8d8e-32e548c6553e",
   "metadata": {},
   "outputs": [
    {
     "data": {
      "text/plain": [
       "(2, 3, 3)"
      ]
     },
     "execution_count": 58,
     "metadata": {},
     "output_type": "execute_result"
    }
   ],
   "source": [
    "a3.shape"
   ]
  },
  {
   "cell_type": "code",
   "execution_count": 59,
   "id": "b99ba119-7435-4f21-8975-38933fc349d6",
   "metadata": {},
   "outputs": [
    {
     "data": {
      "text/plain": [
       "array([[[ 1, 10],\n",
       "        [ 4, 13],\n",
       "        [ 7, 16]],\n",
       "\n",
       "       [[ 2, 11],\n",
       "        [ 5, 14],\n",
       "        [ 8, 17]],\n",
       "\n",
       "       [[ 3, 12],\n",
       "        [ 6, 15],\n",
       "        [ 9, 18]]])"
      ]
     },
     "execution_count": 59,
     "metadata": {},
     "output_type": "execute_result"
    }
   ],
   "source": [
    "a3.T"
   ]
  },
  {
   "cell_type": "code",
   "execution_count": 60,
   "id": "3c5ecdf0-bf75-426a-bfab-4fe5f67d66d6",
   "metadata": {},
   "outputs": [
    {
     "data": {
      "text/plain": [
       "(3, 3, 2)"
      ]
     },
     "execution_count": 60,
     "metadata": {},
     "output_type": "execute_result"
    }
   ],
   "source": [
    "a3.T.shape"
   ]
  },
  {
   "cell_type": "markdown",
   "id": "d555179c-2c3d-4f35-b206-965f1436ae6f",
   "metadata": {},
   "source": [
    "## Dot Product\n",
    "It is same as `matrix multiplication`"
   ]
  },
  {
   "cell_type": "code",
   "execution_count": 61,
   "id": "3654a5df-2fda-4939-b9e6-68b2e9cc483c",
   "metadata": {},
   "outputs": [],
   "source": [
    "np.random.seed(0)\n",
    "mat1 = np.random.randint(0,10,size=(5,3))\n",
    "mat2 = np.random.randint(0,10,size=(5,3))"
   ]
  },
  {
   "cell_type": "code",
   "execution_count": 62,
   "id": "a44db370-c986-4a78-ad19-1ed1dec7fba6",
   "metadata": {},
   "outputs": [
    {
     "data": {
      "text/plain": [
       "array([[5, 0, 3],\n",
       "       [3, 7, 9],\n",
       "       [3, 5, 2],\n",
       "       [4, 7, 6],\n",
       "       [8, 8, 1]])"
      ]
     },
     "execution_count": 62,
     "metadata": {},
     "output_type": "execute_result"
    }
   ],
   "source": [
    "mat1"
   ]
  },
  {
   "cell_type": "code",
   "execution_count": 63,
   "id": "78d682f4-0ca1-4170-b571-0bf2c9e54636",
   "metadata": {},
   "outputs": [
    {
     "data": {
      "text/plain": [
       "array([[6, 7, 7],\n",
       "       [8, 1, 5],\n",
       "       [9, 8, 9],\n",
       "       [4, 3, 0],\n",
       "       [3, 5, 0]])"
      ]
     },
     "execution_count": 63,
     "metadata": {},
     "output_type": "execute_result"
    }
   ],
   "source": [
    "mat2"
   ]
  },
  {
   "cell_type": "code",
   "execution_count": 64,
   "id": "76caa7a2-3dec-4c9d-a857-fca9a7460d0d",
   "metadata": {},
   "outputs": [
    {
     "data": {
      "text/plain": [
       "array([[30,  0, 21],\n",
       "       [24,  7, 45],\n",
       "       [27, 40, 18],\n",
       "       [16, 21,  0],\n",
       "       [24, 40,  0]])"
      ]
     },
     "execution_count": 64,
     "metadata": {},
     "output_type": "execute_result"
    }
   ],
   "source": [
    "# Element-wise multiplication\n",
    "mat1*mat2"
   ]
  },
  {
   "cell_type": "code",
   "execution_count": 65,
   "id": "e82b49bb-ca33-4e9e-ac43-bc6b748ffe43",
   "metadata": {},
   "outputs": [
    {
     "ename": "ValueError",
     "evalue": "shapes (5,3) and (5,3) not aligned: 3 (dim 1) != 5 (dim 0)",
     "output_type": "error",
     "traceback": [
      "\u001b[1;31m---------------------------------------------------------------------------\u001b[0m",
      "\u001b[1;31mValueError\u001b[0m                                Traceback (most recent call last)",
      "Input \u001b[1;32mIn [65]\u001b[0m, in \u001b[0;36m<cell line: 1>\u001b[1;34m()\u001b[0m\n\u001b[1;32m----> 1\u001b[0m \u001b[43mnp\u001b[49m\u001b[38;5;241;43m.\u001b[39;49m\u001b[43mdot\u001b[49m\u001b[43m(\u001b[49m\u001b[43mmat1\u001b[49m\u001b[43m,\u001b[49m\u001b[43mmat2\u001b[49m\u001b[43m)\u001b[49m\n",
      "File \u001b[1;32m<__array_function__ internals>:5\u001b[0m, in \u001b[0;36mdot\u001b[1;34m(*args, **kwargs)\u001b[0m\n",
      "\u001b[1;31mValueError\u001b[0m: shapes (5,3) and (5,3) not aligned: 3 (dim 1) != 5 (dim 0)"
     ]
    }
   ],
   "source": [
    "np.dot(mat1,mat2)"
   ]
  },
  {
   "cell_type": "code",
   "execution_count": 66,
   "id": "63af6129-25d5-4cfe-9162-2f19571dc6b2",
   "metadata": {},
   "outputs": [],
   "source": [
    "mat2 = mat2.T"
   ]
  },
  {
   "cell_type": "code",
   "execution_count": 67,
   "id": "870dbcb5-5822-4690-98ef-78d106c9e9b7",
   "metadata": {},
   "outputs": [
    {
     "data": {
      "text/plain": [
       "((3, 5), (5, 3))"
      ]
     },
     "execution_count": 67,
     "metadata": {},
     "output_type": "execute_result"
    }
   ],
   "source": [
    "mat2.shape, mat1.shape"
   ]
  },
  {
   "cell_type": "code",
   "execution_count": 68,
   "id": "2e6344a0-6dcc-413b-8e50-17c1a21e30dc",
   "metadata": {},
   "outputs": [
    {
     "data": {
      "text/plain": [
       "array([[121, 153, 135],\n",
       "       [114, 108,  69],\n",
       "       [ 77,  80,  84]])"
      ]
     },
     "execution_count": 68,
     "metadata": {},
     "output_type": "execute_result"
    }
   ],
   "source": [
    "np.dot(mat2,mat1)"
   ]
  },
  {
   "cell_type": "code",
   "execution_count": 69,
   "id": "5abce105-57a8-498a-9660-feaf2abe8960",
   "metadata": {},
   "outputs": [
    {
     "data": {
      "text/plain": [
       "array([[ 51,  55,  72,  20,  15],\n",
       "       [130,  76, 164,  33,  44],\n",
       "       [ 67,  39,  85,  27,  34],\n",
       "       [115,  69, 146,  37,  47],\n",
       "       [111,  77, 145,  56,  64]])"
      ]
     },
     "execution_count": 69,
     "metadata": {},
     "output_type": "execute_result"
    }
   ],
   "source": [
    "np.dot(mat1,mat2)"
   ]
  },
  {
   "cell_type": "code",
   "execution_count": 72,
   "id": "61e08b36",
   "metadata": {},
   "outputs": [],
   "source": [
    "np.random.seed(1)\n",
    "quan = np.random.randint(0,20,size=(5,3))\n",
    "price = np.array([10,8,12])"
   ]
  },
  {
   "cell_type": "code",
   "execution_count": 85,
   "id": "89919c08",
   "metadata": {},
   "outputs": [
    {
     "data": {
      "text/plain": [
       "array([[ 5, 11, 12],\n",
       "       [ 8,  9, 11],\n",
       "       [ 5, 15,  0],\n",
       "       [16,  1, 12],\n",
       "       [ 7, 13,  6]])"
      ]
     },
     "execution_count": 85,
     "metadata": {},
     "output_type": "execute_result"
    }
   ],
   "source": [
    "quan"
   ]
  },
  {
   "cell_type": "code",
   "execution_count": 86,
   "id": "0a57efb7",
   "metadata": {},
   "outputs": [
    {
     "data": {
      "text/plain": [
       "array([10,  8, 12])"
      ]
     },
     "execution_count": 86,
     "metadata": {},
     "output_type": "execute_result"
    }
   ],
   "source": [
    "price"
   ]
  },
  {
   "cell_type": "code",
   "execution_count": 73,
   "id": "a1706b21",
   "metadata": {},
   "outputs": [
    {
     "data": {
      "text/plain": [
       "((3,), (5, 3))"
      ]
     },
     "execution_count": 73,
     "metadata": {},
     "output_type": "execute_result"
    }
   ],
   "source": [
    "price.shape, quan.shape"
   ]
  },
  {
   "cell_type": "code",
   "execution_count": 83,
   "id": "72836a3d",
   "metadata": {},
   "outputs": [
    {
     "data": {
      "text/plain": [
       "array([282, 284, 170, 312, 246])"
      ]
     },
     "execution_count": 83,
     "metadata": {},
     "output_type": "execute_result"
    }
   ],
   "source": [
    "tot = np.dot(price.T,quan.T)\n",
    "tot"
   ]
  },
  {
   "cell_type": "code",
   "execution_count": 84,
   "id": "c55db6f4",
   "metadata": {},
   "outputs": [
    {
     "data": {
      "text/plain": [
       "(5,)"
      ]
     },
     "execution_count": 84,
     "metadata": {},
     "output_type": "execute_result"
    }
   ],
   "source": [
    "tot.shape"
   ]
  },
  {
   "cell_type": "code",
   "execution_count": 87,
   "id": "31852fed",
   "metadata": {},
   "outputs": [
    {
     "data": {
      "text/html": [
       "<div>\n",
       "<style scoped>\n",
       "    .dataframe tbody tr th:only-of-type {\n",
       "        vertical-align: middle;\n",
       "    }\n",
       "\n",
       "    .dataframe tbody tr th {\n",
       "        vertical-align: top;\n",
       "    }\n",
       "\n",
       "    .dataframe thead th {\n",
       "        text-align: right;\n",
       "    }\n",
       "</style>\n",
       "<table border=\"1\" class=\"dataframe\">\n",
       "  <thead>\n",
       "    <tr style=\"text-align: right;\">\n",
       "      <th></th>\n",
       "      <th>Pasta</th>\n",
       "      <th>Maggi</th>\n",
       "      <th>Nacho</th>\n",
       "    </tr>\n",
       "  </thead>\n",
       "  <tbody>\n",
       "    <tr>\n",
       "      <th>Mon</th>\n",
       "      <td>5</td>\n",
       "      <td>11</td>\n",
       "      <td>12</td>\n",
       "    </tr>\n",
       "    <tr>\n",
       "      <th>Tue</th>\n",
       "      <td>8</td>\n",
       "      <td>9</td>\n",
       "      <td>11</td>\n",
       "    </tr>\n",
       "    <tr>\n",
       "      <th>Wed</th>\n",
       "      <td>5</td>\n",
       "      <td>15</td>\n",
       "      <td>0</td>\n",
       "    </tr>\n",
       "    <tr>\n",
       "      <th>Thu</th>\n",
       "      <td>16</td>\n",
       "      <td>1</td>\n",
       "      <td>12</td>\n",
       "    </tr>\n",
       "    <tr>\n",
       "      <th>Fri</th>\n",
       "      <td>7</td>\n",
       "      <td>13</td>\n",
       "      <td>6</td>\n",
       "    </tr>\n",
       "  </tbody>\n",
       "</table>\n",
       "</div>"
      ],
      "text/plain": [
       "     Pasta  Maggi  Nacho\n",
       "Mon      5     11     12\n",
       "Tue      8      9     11\n",
       "Wed      5     15      0\n",
       "Thu     16      1     12\n",
       "Fri      7     13      6"
      ]
     },
     "execution_count": 87,
     "metadata": {},
     "output_type": "execute_result"
    }
   ],
   "source": [
    "import pandas as pd\n",
    "sales = pd.DataFrame(quan,index = [\"Mon\",\"Tue\",\"Wed\",\"Thu\",\"Fri\"],columns = [\"Pasta\",\"Maggi\",\"Nacho\"])\n",
    "sales"
   ]
  },
  {
   "cell_type": "code",
   "execution_count": null,
   "id": "2c3af67c",
   "metadata": {},
   "outputs": [],
   "source": []
  }
 ],
 "metadata": {
  "kernelspec": {
   "display_name": "Python 3 (ipykernel)",
   "language": "python",
   "name": "python3"
  },
  "language_info": {
   "codemirror_mode": {
    "name": "ipython",
    "version": 3
   },
   "file_extension": ".py",
   "mimetype": "text/x-python",
   "name": "python",
   "nbconvert_exporter": "python",
   "pygments_lexer": "ipython3",
   "version": "3.9.12"
  }
 },
 "nbformat": 4,
 "nbformat_minor": 5
}
